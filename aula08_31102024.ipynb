{
 "cells": [
  {
   "cell_type": "markdown",
   "metadata": {},
   "source": [
    "**Medidas de Tendência Central com Numpy:**\n"
   ]
  },
  {
   "cell_type": "code",
   "execution_count": 1,
   "metadata": {},
   "outputs": [],
   "source": [
    "import numpy as np"
   ]
  },
  {
   "cell_type": "code",
   "execution_count": 5,
   "metadata": {},
   "outputs": [],
   "source": [
    "amostra=np.array([2500,3200,2700,3000,3400,3700,4500,4700,5000,5200,6000,7000])"
   ]
  },
  {
   "cell_type": "code",
   "execution_count": 6,
   "metadata": {},
   "outputs": [
    {
     "name": "stdout",
     "output_type": "stream",
     "text": [
      "Média:4241.666666666667\n",
      "Mediana:4100.0\n"
     ]
    }
   ],
   "source": [
    "media=np.mean(amostra)\n",
    "mediana=np.median(amostra)\n",
    "print(f'Média:{media}')\n",
    "print(f'Mediana:{mediana}')"
   ]
  },
  {
   "cell_type": "code",
   "execution_count": 7,
   "metadata": {},
   "outputs": [
    {
     "name": "stdout",
     "output_type": "stream",
     "text": [
      "Distancia entre média e mediana: 3.46%\n"
     ]
    }
   ],
   "source": [
    "distancia=(media-mediana)/mediana*100\n",
    "print(f'Distancia entre média e mediana: {distancia:.2f}%')"
   ]
  },
  {
   "cell_type": "markdown",
   "metadata": {},
   "source": [
    "Como devo interpretar isso ?\n",
    "Se:\n",
    "1. Distância <= |10%| : a minha média é CONFIÁVEL\n",
    "\n",
    "2. |10%| < Distância < |25%|: existe uma influência MODERADA de valores extremos;\n",
    "\n",
    "3. Distância >=|25%|: existe ALTA influência dos valores extremos."
   ]
  },
  {
   "cell_type": "markdown",
   "metadata": {},
   "source": [
    "#Atividade Assistida: Crie um array com 50 números aleatórios e repitam a análise sobre a distância calculada anterior para nova amostra.\n"
   ]
  },
  {
   "cell_type": "code",
   "execution_count": 8,
   "metadata": {},
   "outputs": [],
   "source": [
    "amostra=np.array([20,22,23,26,28,30,34,35,37,39,41,43,46,48,47,49,50,51,52,56,60,75,78,89,88,96,97,99,111,120,126,133,137,145,146,147,152,163,165,168,172,175,178,182,184,186,189,192,195,198])"
   ]
  },
  {
   "cell_type": "code",
   "execution_count": 13,
   "metadata": {},
   "outputs": [],
   "source": [
    "dados=np.array(amostra)\n",
    "media=np.mean(amostra)\n",
    "mediana=np.median(amostra)\n",
    "distancia=(media-mediana)/mediana*100\n",
    "q1=np.percentile(dados,25)\n",
    "q2=np.percentile(dados,50)\n",
    "q3=np.percentile(dados,75)\n",
    "\n"
   ]
  },
  {
   "cell_type": "code",
   "execution_count": 15,
   "metadata": {},
   "outputs": [
    {
     "name": "stdout",
     "output_type": "stream",
     "text": [
      "Média:100.46\n",
      "Mediana:92.5\n",
      "Distância entre média e mediana: 8.61\n",
      "primeiro Quartil(Q1):46.25\n",
      "primeiro Quartil(Q2):92.5\n",
      "primeiro Quartil(Q3):160.25\n"
     ]
    }
   ],
   "source": [
    "print(f'Média:{media}')\n",
    "print(f'Mediana:{mediana}')\n",
    "print(f'Distância entre média e mediana: {distancia:.2f}')\n",
    "print(f\"primeiro Quartil(Q1):{q1}\")\n",
    "print(f\"primeiro Quartil(Q2):{q2}\")\n",
    "print(f\"primeiro Quartil(Q3):{q3}\")"
   ]
  },
  {
   "cell_type": "code",
   "execution_count": 11,
   "metadata": {},
   "outputs": [
    {
     "name": "stdout",
     "output_type": "stream",
     "text": [
      "Distancia entre média e mediana: 8.61%\n"
     ]
    }
   ],
   "source": [
    "distancia=(media-mediana)/mediana*100\n",
    "print(f'Distancia entre média e mediana: {distancia:.2f}%')"
   ]
  },
  {
   "cell_type": "markdown",
   "metadata": {},
   "source": [
    "Minha média é confiável.\n"
   ]
  },
  {
   "cell_type": "code",
   "execution_count": 18,
   "metadata": {},
   "outputs": [
    {
     "name": "stdout",
     "output_type": "stream",
     "text": [
      "Média:100.46\n",
      "Mediana:92.5\n",
      "Distância entre média e mediana: 8.61\n",
      "primeiro Quartil(Q1):46.25\n",
      "segundo Quartil(Q2):92.5\n",
      "terceiro Quartil(Q3):160.25\n",
      "Intervalo Interquartil:114.0\n",
      "Limite Superior: 331.25\n",
      "Limite Inferior: -124.75\n"
     ]
    }
   ],
   "source": [
    "#Cálculos para verificação de intervalo interquartil (IQR) e seus limites:\n",
    "\n",
    "iqr=q3-q1\n",
    "limite_superior=q3+(1.5*iqr)\n",
    "limite_inferior=q1-(1.5*iqr)\n",
    "\n",
    "#Resumo das Estatisticas:\n",
    "\n",
    "print(f'Média:{media}')\n",
    "print(f'Mediana:{mediana}')\n",
    "print(f'Distância entre média e mediana: {distancia:.2f}')\n",
    "print(f\"primeiro Quartil(Q1):{q1}\")\n",
    "print(f\"segundo Quartil(Q2):{q2}\")\n",
    "print(f\"terceiro Quartil(Q3):{q3}\")\n",
    "print(f'Intervalo Interquartil:{iqr}')\n",
    "print(f'Limite Superior: {limite_superior}')\n",
    "print(f'Limite Inferior: {limite_inferior}')"
   ]
  },
  {
   "cell_type": "code",
   "execution_count": 19,
   "metadata": {},
   "outputs": [
    {
     "name": "stdout",
     "output_type": "stream",
     "text": [
      "a média esta DENTRO do intervalo interquartil, o que sugere confiabilidade\n"
     ]
    }
   ],
   "source": [
    "if q1 <= media <= q3:\n",
    "    print('a média esta DENTRO do intervalo interquartil, o que sugere confiabilidade')\n",
    "else: \n",
    "    print('a média está FORA do intervalo interquartil, o que sugere MENOS confiablidade')\n"
   ]
  }
 ],
 "metadata": {
  "kernelspec": {
   "display_name": "Python 3",
   "language": "python",
   "name": "python3"
  },
  "language_info": {
   "codemirror_mode": {
    "name": "ipython",
    "version": 3
   },
   "file_extension": ".py",
   "mimetype": "text/x-python",
   "name": "python",
   "nbconvert_exporter": "python",
   "pygments_lexer": "ipython3",
   "version": "3.11.4"
  },
  "orig_nbformat": 4
 },
 "nbformat": 4,
 "nbformat_minor": 2
}
