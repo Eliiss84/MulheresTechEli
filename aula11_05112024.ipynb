{
 "cells": [
  {
   "cell_type": "markdown",
   "metadata": {},
   "source": [
    "Assimetria e Curtose:\n",
    "\n",
    "Assimetria é uma medida que nos indica a TENDÊNCIA DA DISTRIBUIÇÃO dos dados para o lado dos valores menores ou maiores. Para obte-la, utilizamos o metodo Pandas chamado skew().\n",
    "Como vou interpretar os dados:\n",
    "1. Assimetria >=-0,5 e Assimetria <= 0.5: distribuição SIMETRICA (Média aproximadamene igual a mediana)\n",
    "2. Assimetria > 0.5: distribuição ASSIMÉTRICA POSITIVA (média maior que a mediana, distribuição tendendo mais à direita); \n",
    "3. Assimetria < -0.5: distribuição ASSIMÉTRICA NEGATIVO (média menor que a mediana, distribuição tendendo mais à esquerda). "
   ]
  },
  {
   "cell_type": "code",
   "execution_count": 13,
   "metadata": {},
   "outputs": [],
   "source": [
    "import pandas as pd\n",
    "import numpy as np"
   ]
  },
  {
   "cell_type": "code",
   "execution_count": 16,
   "metadata": {},
   "outputs": [
    {
     "data": {
      "text/html": [
       "<div>\n",
       "<style scoped>\n",
       "    .dataframe tbody tr th:only-of-type {\n",
       "        vertical-align: middle;\n",
       "    }\n",
       "\n",
       "    .dataframe tbody tr th {\n",
       "        vertical-align: top;\n",
       "    }\n",
       "\n",
       "    .dataframe thead th {\n",
       "        text-align: right;\n",
       "    }\n",
       "</style>\n",
       "<table border=\"1\" class=\"dataframe\">\n",
       "  <thead>\n",
       "    <tr style=\"text-align: right;\">\n",
       "      <th></th>\n",
       "      <th>Salário</th>\n",
       "    </tr>\n",
       "  </thead>\n",
       "  <tbody>\n",
       "    <tr>\n",
       "      <th>0</th>\n",
       "      <td>2500</td>\n",
       "    </tr>\n",
       "    <tr>\n",
       "      <th>1</th>\n",
       "      <td>2700</td>\n",
       "    </tr>\n",
       "    <tr>\n",
       "      <th>2</th>\n",
       "      <td>3200</td>\n",
       "    </tr>\n",
       "    <tr>\n",
       "      <th>3</th>\n",
       "      <td>4000</td>\n",
       "    </tr>\n",
       "    <tr>\n",
       "      <th>4</th>\n",
       "      <td>4500</td>\n",
       "    </tr>\n",
       "    <tr>\n",
       "      <th>5</th>\n",
       "      <td>4800</td>\n",
       "    </tr>\n",
       "    <tr>\n",
       "      <th>6</th>\n",
       "      <td>5000</td>\n",
       "    </tr>\n",
       "    <tr>\n",
       "      <th>7</th>\n",
       "      <td>5200</td>\n",
       "    </tr>\n",
       "    <tr>\n",
       "      <th>8</th>\n",
       "      <td>6000</td>\n",
       "    </tr>\n",
       "    <tr>\n",
       "      <th>9</th>\n",
       "      <td>8000</td>\n",
       "    </tr>\n",
       "    <tr>\n",
       "      <th>10</th>\n",
       "      <td>15000</td>\n",
       "    </tr>\n",
       "  </tbody>\n",
       "</table>\n",
       "</div>"
      ],
      "text/plain": [
       "    Salário\n",
       "0      2500\n",
       "1      2700\n",
       "2      3200\n",
       "3      4000\n",
       "4      4500\n",
       "5      4800\n",
       "6      5000\n",
       "7      5200\n",
       "8      6000\n",
       "9      8000\n",
       "10    15000"
      ]
     },
     "metadata": {},
     "output_type": "display_data"
    }
   ],
   "source": [
    "salarios={'Salário':[2500,2700,3200,4000,4500,4800,5000,5200,6000,8000,15000]}\n",
    "df_salarios=pd.DataFrame(salarios)\n",
    "display(df_salarios)"
   ]
  },
  {
   "cell_type": "code",
   "execution_count": 17,
   "metadata": {},
   "outputs": [
    {
     "name": "stdout",
     "output_type": "stream",
     "text": [
      "Assimetria:2.250352522796866\n",
      "Média:5536.363636363636\n",
      "Mediana:4800.0\n"
     ]
    }
   ],
   "source": [
    "#Calculando Assimetria\n",
    "assimetria=df_salarios['Salário'].skew()\n",
    "media=df_salarios['Salário'].mean()\n",
    "mediana=df_salarios['Salário'].median()\n",
    "\n",
    "print(f'Assimetria:{assimetria}')\n",
    "print(f'Média:{media}')\n",
    "print(f'Mediana:{mediana}')"
   ]
  },
  {
   "cell_type": "code",
   "execution_count": 18,
   "metadata": {},
   "outputs": [
    {
     "name": "stdout",
     "output_type": "stream",
     "text": [
      "Distribuição Assimetrica Positiva\n"
     ]
    }
   ],
   "source": [
    "#Interpretação\n",
    "\n",
    "if -0.5 <= assimetria <= 0.5:\n",
    "    resultado=\"Distribuição Simetrica\"\n",
    "elif assimetria>0.5:\n",
    "    resultado=\"Distribuição Assimetrica Positiva\"\n",
    "else:\n",
    "    resultado=\"Distribuição Assimetrica Negativa\"\n",
    "\n",
    "print(resultado)        "
   ]
  },
  {
   "cell_type": "markdown",
   "metadata": {},
   "source": [
    "ATIVIDADE: atualize o resumo estatístico da sua amostra random com:\n",
    "\n",
    "assimetria\n",
    "Curtose é uma medida que mede o GRAU DE CONCENTRAÇÃO dos dados ao redor da MÉDIA. No Pandas, isso é visto pelo método kurtosis() e nos ajuda a ver os \"níveis de curtose\" que indicam a presença ou ausência de outliers.\n",
    "\n",
    "Como vou interpretar meus dados:\n",
    "\n",
    "1. Curtose >= 2.5 e Curtose <= 3.5: MESOCÚRTICA (distribuição normal, dados bem distribuídos em torno da média);\n",
    "\n",
    "2. Curtose < 2.5: PLATICÚRTICA (dados mais dispersos; presença comum de outliers);\n",
    "\n",
    "3. Curtose > 3.5: LEPTOCÚRTICA (dados MUITO concentrados na média; outliers MUITO presentes)."
   ]
  },
  {
   "cell_type": "code",
   "execution_count": 20,
   "metadata": {},
   "outputs": [
    {
     "name": "stdout",
     "output_type": "stream",
     "text": [
      "Curtose:5.832993558134647\n"
     ]
    }
   ],
   "source": [
    "#Calculando a Curtose \n",
    "\n",
    "curtose=df_salarios['Salário'].kurtosis()\n",
    "print(f'Curtose:{curtose}')"
   ]
  },
  {
   "cell_type": "code",
   "execution_count": 21,
   "metadata": {},
   "outputs": [
    {
     "name": "stdout",
     "output_type": "stream",
     "text": [
      "Distribuição Leptocúrtica\n"
     ]
    }
   ],
   "source": [
    "#interpretação\n",
    "\n",
    "if 2.5 <= curtose <= 3.5:\n",
    "    resultado2=\"Distribuição Mesocúrtica\"\n",
    "elif curtose < 2.5:\n",
    "    resultado2=\"Distribuição Platicúrtica\"\n",
    "else:\n",
    "    resultado2=\"Distribuição Leptocúrtica\"\n",
    "\n",
    "print(resultado2)"
   ]
  },
  {
   "cell_type": "markdown",
   "metadata": {},
   "source": [
    "ATIVIDADE: atualize o resumo estatístico da sua amostra random com:\n",
    "\n",
    "*nível de curtose"
   ]
  },
  {
   "cell_type": "code",
   "execution_count": 27,
   "metadata": {},
   "outputs": [],
   "source": [
    "import matplotlib.pyplot as plt"
   ]
  },
  {
   "cell_type": "code",
   "execution_count": 30,
   "metadata": {},
   "outputs": [
    {
     "data": {
      "image/png": "[encoded data removed]",
      "text/plain": [
       "<Figure size 640x480 with 1 Axes>"
      ]
     },
     "metadata": {},
     "output_type": "display_data"
    }
   ],
   "source": [
    "#Exemplo de Abordagem do Resultado com Boxplot:\n",
    "\n",
    "import matplotlib.pyplot as plt\n",
    "\n",
    "plt.boxplot(df_salarios['Salário'])\n",
    "plt.title('Boxplot dos Salário')\n",
    "plt.ylabel('Salário')\n",
    "plt.show()"
   ]
  },
  {
   "cell_type": "markdown",
   "metadata": {},
   "source": [
    "ATIVIDADE: atualize o resumo estatístico da sua amostra random com:\n",
    "\n",
    "*gráfico boxplot"
   ]
  },
  {
   "cell_type": "code",
   "execution_count": null,
   "metadata": {},
   "outputs": [],
   "source": []
  }
 ],
 "metadata": {
  "kernelspec": {
   "display_name": "Python 3",
   "language": "python",
   "name": "python3"
  },
  "language_info": {
   "codemirror_mode": {
    "name": "ipython",
    "version": 3
   },
   "file_extension": ".py",
   "mimetype": "text/x-python",
   "name": "python",
   "nbconvert_exporter": "python",
   "pygments_lexer": "ipython3",
   "version": "3.11.4"
  },
  "orig_nbformat": 4
 },
 "nbformat": 4,
 "nbformat_minor": 2
}
