{
 "cells": [
  {
   "cell_type": "markdown",
   "metadata": {},
   "source": [
    "Diferenças entre PANDAS e NUMPY:"
   ]
  },
  {
   "cell_type": "markdown",
   "metadata": {},
   "source": [
    "PANDAS:\n",
    "\n",
    "1. Melhor forma de trabalhar com dados tabulares (dataframe).\n",
    "\n",
    "2. As ferramentas poderosas são os comandos DATAFRAME e SERIES.\n",
    "\n",
    "3. Consome mais memória.\n",
    "\n",
    "4. Possui melhor desempenho se o número de linhas da matriz precisar ser maior do que 500k.\n",
    "\n",
    "5. Oferece um recurso para visualizar tabelas 2D chamadas DATAFRAMES.\n",
    "\n",
    "\n",
    "\n",
    "NUMPY:\n",
    "\n",
    "1. Melhor forma de trabalhar com dados numéricos (série).\n",
    "\n",
    "2. A ferramenta poderosa é através dos comandos de ARRAYS.\n",
    "\n",
    "3. Mais eficiente em termos de memória.\n",
    "\n",
    "4. É mais eficiente quando o número de linhas do array é de 50k ou menos.\n",
    "\n",
    "5. Trabalha com MATRIZES MULTIDIMENSIONAIS. "
   ]
  },
  {
   "cell_type": "code",
   "execution_count": null,
   "metadata": {},
   "outputs": [],
   "source": [
    "#Próxima Aula:\n",
    "\n",
    "#Pesquisa:\n",
    "\n",
    "#Comandos:\n",
    "\n",
    ".dtype\n",
    ".shape\n",
    ".zeros\n",
    ".ones\n",
    ".empty\n",
    ".arange\n",
    ".random\n",
    ".split \n",
    ".reshape\n",
    ".concatenate\n",
    ".describe\n",
    "\n",
    "\n"
   ]
  },
  {
   "cell_type": "markdown",
   "metadata": {},
   "source": [
    "|Aluno|Nota 1|Nota 2|Nota 3|\n",
    "|---|---|---|---|\n",
    "|João da Silva|10.0|5.5|4.5|\n",
    "|Maria|9.5|9|8.7|\n",
    "\n",
    "**Criando uma Lista Numerada**\n",
    "\n",
    "1. Módulo 1;\n",
    "2. Módulo 2;\n",
    "3. Módulo 3;\n",
    "4. Módulo 4;\n",
    "5. Módulo 5.\n",
    "\n",
    "**Criando uma Lista com Marcadores**\n",
    "\n",
    "* Módulo 1;\n",
    "* Módulo 1;\n",
    "* Módulo 2;\n",
    "* Módulo 3;\n",
    "* Módulo 4;\n",
    "* Módulo 5.\n",
    "\n",
    "**Colocando uma Imagem**\n",
    "\n",
    "![](https://encrypted-tbn0.gstatic.com/images?q=tbn:ANd9GcSgzPpvWLqznqgz7Y8DI-zZHDKLLzma9XHuXsz39I6vdQ&s)\n",
    "\n",
    "![](https://upload.wikimedia.org/wikipedia/pt/c/cd/Nazar%C3%A9_Confusa.jpg)\n",
    "\n",
    "![](https://s2.glbimg.com/yj8shGg_RGO8934ViubP2aSjYOA=/480x0/smart/filters:strip_icc()/i.s3.glbimg.com/v1/AUTH_08fbf48bc0524877943fe86e43087e7a/internal_photos/bs/2023/r/i/lPgLATQ7iBy4bu9wX5VQ/lanaexplicit-gretchen-meme-eu-teria-vergonha-disso-.jpg)\n"
   ]
  }
 ],
 "metadata": {
  "kernelspec": {
   "display_name": "Python 3",
   "language": "python",
   "name": "python3"
  },
  "language_info": {
   "codemirror_mode": {
    "name": "ipython",
    "version": 3
   },
   "file_extension": ".py",
   "mimetype": "text/x-python",
   "name": "python",
   "nbconvert_exporter": "python",
   "pygments_lexer": "ipython3",
   "version": "3.11.4"
  },
  "orig_nbformat": 4
 },
 "nbformat": 4,
 "nbformat_minor": 2
}
