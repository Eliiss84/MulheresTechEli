{
 "cells": [
  {
   "cell_type": "markdown",
   "metadata": {},
   "source": [
    "Atividade 2 (GITHUB):\n",
    "\n",
    "Leia o arquivo ClassicDisco.csv trabalhado em aulas anteriores e aplique o comando .describe() para gerar uma análise estatística prévia dos dados. Não esqueça dos comandos para verificar as primeiras e últimas linhas do dataset como apoio nessa atividade."
   ]
  },
  {
   "cell_type": "code",
   "execution_count": 2,
   "metadata": {},
   "outputs": [],
   "source": [
    "import pandas as pd\n",
    "import numpy as np"
   ]
  },
  {
   "cell_type": "code",
   "execution_count": 5,
   "metadata": {},
   "outputs": [
    {
     "name": "stdout",
     "output_type": "stream",
     "text": [
      "                               Track            Artist  \\\n",
      "0                 Boogie Oogie Oogie  A Taste Of Honey   \n",
      "1  Disco Dancin' - 2004 - Remastered  A Taste Of Honey   \n",
      "2                            Distant  A Taste Of Honey   \n",
      "3                         Do It Good  A Taste Of Honey   \n",
      "4                        If We Loved  A Taste Of Honey   \n",
      "\n",
      "                              Album  Year  Duration  Time_Signature  \\\n",
      "0                  A Taste Of Honey  1978    245173               4   \n",
      "1                  A Taste Of Honey  1978    210493               4   \n",
      "2                  A Taste Of Honey  1978    260053               4   \n",
      "3  Another Taste (Expanded Edition)  1978    342826               4   \n",
      "4                  A Taste Of Honey  1978    266200               4   \n",
      "\n",
      "   Danceability  Energy  Key  Loudness  Mode  Speechiness  Acousticness  \\\n",
      "0         0.797   0.548    2    -9.228     0       0.0492        0.0401   \n",
      "1         0.751   0.570    2   -11.645     1       0.0813        0.3710   \n",
      "2         0.468   0.512    2   -10.187     1       0.1380        0.7820   \n",
      "3         0.699   0.740    3    -8.625     0       0.0289        0.0714   \n",
      "4         0.463   0.459    6   -11.600     1       0.0296        0.7640   \n",
      "\n",
      "   Instrumentalness  Liveness  Valence    Tempo  Popularity  \n",
      "0          0.000010    0.0994    0.868  123.686          53  \n",
      "1          0.000020    0.1230    0.770  103.408          11  \n",
      "2          0.000020    0.2020    0.714  163.400          13  \n",
      "3          0.000002    0.1650    0.889  104.168          17  \n",
      "4          0.000003    0.1580    0.300  129.267          13  \n",
      "              Year      Duration  Time_Signature  Danceability      Energy  \\\n",
      "count   724.000000  7.240000e+02      724.000000    724.000000  724.000000   \n",
      "mean   1977.872928  3.013971e+05        3.970994      0.691912    0.665481   \n",
      "std       4.126678  1.000937e+05        0.175981      0.127139    0.176193   \n",
      "min    1967.000000  1.270530e+05        3.000000      0.293000    0.034800   \n",
      "25%    1976.000000  2.306595e+05        4.000000      0.618750    0.549750   \n",
      "50%    1978.000000  2.808165e+05        4.000000      0.708000    0.689000   \n",
      "75%    1980.000000  3.534562e+05        4.000000      0.784000    0.805750   \n",
      "max    2020.000000  1.008533e+06        5.000000      0.980000    0.985000   \n",
      "\n",
      "              Key    Loudness        Mode  Speechiness  Acousticness  \\\n",
      "count  724.000000  724.000000  724.000000   724.000000    724.000000   \n",
      "mean     5.356354  -10.043793    0.574586     0.060252      0.193440   \n",
      "std      3.741299    3.130664    0.494747     0.038666      0.217953   \n",
      "min      0.000000  -23.920000    0.000000     0.023200      0.000017   \n",
      "25%      2.000000  -12.124500    0.000000     0.036500      0.028400   \n",
      "50%      5.000000   -9.701000    1.000000     0.049300      0.111000   \n",
      "75%      9.000000   -7.635750    1.000000     0.069600      0.278250   \n",
      "max     11.000000   -3.384000    1.000000     0.386000      0.962000   \n",
      "\n",
      "       Instrumentalness    Liveness     Valence       Tempo  Popularity  \n",
      "count        724.000000  724.000000  724.000000  724.000000  724.000000  \n",
      "mean           0.094249    0.173522    0.762259  118.746369   32.486188  \n",
      "std            0.216858    0.163982    0.192723   18.784116   19.201734  \n",
      "min            0.000000    0.017300    0.085500   63.103000    0.000000  \n",
      "25%            0.000012    0.070600    0.671000  108.563000   17.000000  \n",
      "50%            0.000747    0.106000    0.821500  118.718000   30.500000  \n",
      "75%            0.032700    0.224250    0.909000  126.461250   47.000000  \n",
      "max            0.941000    0.984000    0.984000  203.669000   85.000000  \n"
     ]
    }
   ],
   "source": [
    "##EXEMPLO DE LEITURA:\n",
    "dados=pd.read_csv('ClassicDisco.csv')\n",
    "print(dados.head())\n",
    "estatistica=dados.describe()\n",
    "print(estatistica)"
   ]
  }
 ],
 "metadata": {
  "kernelspec": {
   "display_name": "Python 3",
   "language": "python",
   "name": "python3"
  },
  "language_info": {
   "codemirror_mode": {
    "name": "ipython",
    "version": 3
   },
   "file_extension": ".py",
   "mimetype": "text/x-python",
   "name": "python",
   "nbconvert_exporter": "python",
   "pygments_lexer": "ipython3",
   "version": "3.11.4"
  },
  "orig_nbformat": 4
 },
 "nbformat": 4,
 "nbformat_minor": 2
}
