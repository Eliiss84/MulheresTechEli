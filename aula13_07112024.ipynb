{
 "cells": [
  {
   "cell_type": "markdown",
   "metadata": {},
   "source": [
    "**COMPUTAÇÃO DISTRIBUIDA PARALELISMO;**\n",
    "\n",
    "*Computacão Distribuida* é o processamento dos dados a partir de inumeras maquinas para dividir e completar tarefas mais rapidamente. Já o paralelismo se refere á "
   ]
  },
  {
   "cell_type": "code",
   "execution_count": 3,
   "metadata": {},
   "outputs": [
    {
     "name": "stdout",
     "output_type": "stream",
     "text": [
      "Tarefa 1 iniciando\n",
      "Tarefa 2 iniciando\n",
      "Tarefa 1 finalizando\n",
      "Tarefa 2 finalizando\n",
      "Processamento finalizado\n"
     ]
    }
   ],
   "source": [
    "#Exemplo de multithreading em Python\n",
    "\n",
    "import threading\n",
    "import time \n",
    "\n",
    "def tarefa(nome):\n",
    "    print(f\"{nome} iniciando\")\n",
    "    time.sleep(2)\n",
    "    print(f\"{nome} finalizando\")\n",
    "\n",
    "\n",
    "\n",
    "#Threads para duas tarefas:\n",
    "tarefa1=threading.Thread(target=tarefa,args=('Tarefa 1',))\n",
    "tarefa2=threading.Thread(target=tarefa,args=('Tarefa 2',)) \n",
    "\n",
    "#Inicialização de thread:\n",
    "tarefa1.start()\n",
    "tarefa2.start()\n",
    "\n",
    "#Finalização de thread:\n",
    "tarefa1.join()\n",
    "tarefa2.join()\n",
    "\n",
    "print(\"Processamento finalizado\")"
   ]
  }
 ],
 "metadata": {
  "kernelspec": {
   "display_name": "Python 3",
   "language": "python",
   "name": "python3"
  },
  "language_info": {
   "codemirror_mode": {
    "name": "ipython",
    "version": 3
   },
   "file_extension": ".py",
   "mimetype": "text/x-python",
   "name": "python",
   "nbconvert_exporter": "python",
   "pygments_lexer": "ipython3",
   "version": "3.11.4"
  },
  "orig_nbformat": 4
 },
 "nbformat": 4,
 "nbformat_minor": 2
}
